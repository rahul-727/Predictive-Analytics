{
  "nbformat": 4,
  "nbformat_minor": 0,
  "metadata": {
    "colab": {
      "provenance": [],
      "authorship_tag": "ABX9TyMoGrp9R0p+Vw4udxR11POC",
      "include_colab_link": true
    },
    "kernelspec": {
      "name": "python3",
      "display_name": "Python 3"
    },
    "language_info": {
      "name": "python"
    }
  },
  "cells": [
    {
      "cell_type": "markdown",
      "metadata": {
        "id": "view-in-github",
        "colab_type": "text"
      },
      "source": [
        "<a href=\"https://colab.research.google.com/github/rahul-727/Predictive-Analytics/blob/main/2348544_Lab8_RL.ipynb\" target=\"_parent\"><img src=\"https://colab.research.google.com/assets/colab-badge.svg\" alt=\"Open In Colab\"/></a>"
      ]
    },
    {
      "cell_type": "code",
      "execution_count": 12,
      "metadata": {
        "id": "oG9jUQjcCVDS"
      },
      "outputs": [],
      "source": [
        "import numpy as np\n",
        "import pygad\n",
        "import pygad.gann\n",
        "import matplotlib.pyplot as plt"
      ]
    },
    {
      "cell_type": "markdown",
      "source": [
        " Defines the coordinates of 5 cities on a 2D plane"
      ],
      "metadata": {
        "id": "spPVqrC0EoLS"
      }
    },
    {
      "cell_type": "code",
      "source": [
        "# Coordinates of cities\n",
        "cities_coordinates = np.array([\n",
        "    [0, 0],   # City 1\n",
        "    [10, 0],  # City 2\n",
        "    [10, 10], # City 3\n",
        "    [0, 10],  # City 4\n",
        "    [5, 5]    # City 5\n",
        "])"
      ],
      "metadata": {
        "id": "iXJ4dzy1CW6n"
      },
      "execution_count": 13,
      "outputs": []
    },
    {
      "cell_type": "code",
      "source": [
        "# Number of cities\n",
        "num_cities = len(cities_coordinates)\n",
        "num_cities"
      ],
      "metadata": {
        "colab": {
          "base_uri": "https://localhost:8080/"
        },
        "id": "PFc75UelCakg",
        "outputId": "dd6a0477-52a8-4abe-aa4a-2ead37cfcb59"
      },
      "execution_count": 14,
      "outputs": [
        {
          "output_type": "execute_result",
          "data": {
            "text/plain": [
              "5"
            ]
          },
          "metadata": {},
          "execution_count": 14
        }
      ]
    },
    {
      "cell_type": "markdown",
      "source": [
        "Calculates the pairwise distances between all cities.\n",
        "* Loops over every city (i) and calculates the Euclidean distance to all other cities (j)."
      ],
      "metadata": {
        "id": "BGuRpH3IEyvB"
      }
    },
    {
      "cell_type": "code",
      "source": [
        "# Calculate the distance matrix\n",
        "def calculate_distance_matrix(coords):\n",
        "    num_points = len(coords)\n",
        "    distance_matrix = np.zeros((num_points, num_points))\n",
        "    for i in range(num_points):\n",
        "        for j in range(num_points):\n",
        "            distance_matrix[i, j] = np.linalg.norm(coords[i] - coords[j])\n",
        "    return distance_matrix\n",
        "\n",
        "distance_matrix = calculate_distance_matrix(cities_coordinates)"
      ],
      "metadata": {
        "id": "9O8yDZLuCkGr"
      },
      "execution_count": 15,
      "outputs": []
    },
    {
      "cell_type": "markdown",
      "source": [
        "Determines how good a solution (route) is by calculating its total distance. Shorter distances are better.\n",
        "* Adds up distances for all consecutive cities in the route."
      ],
      "metadata": {
        "id": "XIz2CDTvE4WQ"
      }
    },
    {
      "cell_type": "code",
      "source": [
        "# Fitness function\n",
        "def fitness_function(ga_instance, solution, solution_idx):\n",
        "    # Decode the solution as a route\n",
        "    route = solution.astype(int)\n",
        "    route_distance = 0\n",
        "\n",
        "    # Calculate the total distance of the route\n",
        "    for i in range(len(route) - 1):\n",
        "        route_distance += distance_matrix[route[i], route[i + 1]]\n",
        "    # Add the distance to return to the starting city\n",
        "    route_distance += distance_matrix[route[-1], route[0]]\n",
        "\n",
        "    # Minimize distance, so return negative fitness\n",
        "    return -route_distance"
      ],
      "metadata": {
        "id": "hKbhhzCUCn6j"
      },
      "execution_count": 16,
      "outputs": []
    },
    {
      "cell_type": "markdown",
      "source": [
        "Configures the Genetic Algorithm (GA) to solve the Traveling Salesman Problem (TSP).\n",
        "\n",
        "Parametrs\n",
        "* num_generations=500: Runs 500 iterations to evolve better solutions.\n",
        "* fitness_func=fitness_function: Uses the custom fitness function to evaluate routes.\n",
        "* gene_space=gene_space: Limits solutions to valid city indices.\n",
        "* allow_duplicate_genes=False: Ensures cities are not repeated in a route.\n",
        "* mutation_type=\"swap\": Mutates the route by swapping two cities to explore new solutions."
      ],
      "metadata": {
        "id": "UbwydMj4FKSr"
      }
    },
    {
      "cell_type": "code",
      "source": [
        "# Gene space: cities indices\n",
        "gene_space = list(range(num_cities))\n",
        "\n",
        "# PyGAD configuration\n",
        "ga_instance = pygad.GA(\n",
        "    num_generations=500,\n",
        "    num_parents_mating=5,\n",
        "    fitness_func=fitness_function,\n",
        "    sol_per_pop=10,\n",
        "    num_genes=num_cities,\n",
        "    gene_space=gene_space,\n",
        "    parent_selection_type=\"sss\",\n",
        "    keep_parents=2,\n",
        "    crossover_type=\"single_point\",\n",
        "    mutation_type=\"swap\",\n",
        "    mutation_probability=0.2,\n",
        "    allow_duplicate_genes=False\n",
        ")\n",
        "\n",
        "# Run the genetic algorithm\n",
        "ga_instance.run()"
      ],
      "metadata": {
        "colab": {
          "base_uri": "https://localhost:8080/"
        },
        "id": "ibMS_VOGCtCh",
        "outputId": "51c8f9e7-d492-4cc6-c5a6-e0e73beb032d"
      },
      "execution_count": 17,
      "outputs": [
        {
          "output_type": "stream",
          "name": "stderr",
          "text": [
            "/usr/local/lib/python3.10/dist-packages/pygad/pygad.py:1139: UserWarning: The 'delay_after_gen' parameter is deprecated starting from PyGAD 3.3.0. To delay or pause the evolution after each generation, assign a callback function/method to the 'on_generation' parameter to adds some time delay.\n",
            "  warnings.warn(\"The 'delay_after_gen' parameter is deprecated starting from PyGAD 3.3.0. To delay or pause the evolution after each generation, assign a callback function/method to the 'on_generation' parameter to adds some time delay.\")\n"
          ]
        }
      ]
    },
    {
      "cell_type": "code",
      "source": [
        "# Retrieve the best solution\n",
        "solution, solution_fitness, solution_idx = ga_instance.best_solution()\n",
        "best_route = solution.astype(int)"
      ],
      "metadata": {
        "id": "SSS3dlnsCwof"
      },
      "execution_count": 18,
      "outputs": []
    },
    {
      "cell_type": "markdown",
      "source": [
        "Gets the best route (solution) found by the GA, its fitness value (solution_fitness), and its index in the population."
      ],
      "metadata": {
        "id": "nqZ4RmGvFc1C"
      }
    },
    {
      "cell_type": "markdown",
      "source": [
        "The below code snippet Creates a visualization of the cities and the route as a sequence of arrows"
      ],
      "metadata": {
        "id": "l9449TyCFhR0"
      }
    },
    {
      "cell_type": "code",
      "source": [
        "plt.figure(figsize=(8, 6))\n",
        "\n",
        "# Plot all cities\n",
        "for i in range(num_cities):\n",
        "    if i == best_route[0]:\n",
        "        plt.scatter(cities_coordinates[i, 0], cities_coordinates[i, 1], color='green', s=150, label=\"Starting City\")\n",
        "    else:\n",
        "        plt.scatter(cities_coordinates[i, 0], cities_coordinates[i, 1], color='red', s=100)\n",
        "\n",
        "    plt.text(cities_coordinates[i, 0], cities_coordinates[i, 1], f\"City {i+1}\", fontsize=12)\n",
        "\n",
        "for i in range(len(best_route) - 1):\n",
        "    plt.annotate(\n",
        "        '',\n",
        "        xy=(cities_coordinates[best_route[i + 1], 0], cities_coordinates[best_route[i + 1], 1]),\n",
        "        xytext=(cities_coordinates[best_route[i], 0], cities_coordinates[best_route[i], 1]),\n",
        "        arrowprops=dict(arrowstyle=\"->\", color='blue', lw=1.5),\n",
        "    )\n",
        "\n",
        "plt.annotate(\n",
        "    '',\n",
        "    xy=(cities_coordinates[best_route[0], 0], cities_coordinates[best_route[0], 1]),\n",
        "    xytext=(cities_coordinates[best_route[-1], 0], cities_coordinates[best_route[-1], 1]),\n",
        "    arrowprops=dict(arrowstyle=\"->\", color='blue', lw=1.5),\n",
        ")\n",
        "plt.legend()\n",
        "\n",
        "# Plot customization\n",
        "plt.title(\"Best Route\")\n",
        "plt.xlabel(\"X Coordinate\")\n",
        "plt.ylabel(\"Y Coordinate\")\n",
        "plt.grid()\n",
        "plt.show()\n"
      ],
      "metadata": {
        "colab": {
          "base_uri": "https://localhost:8080/",
          "height": 564
        },
        "id": "uuQyq5F5DWwe",
        "outputId": "dcc71a70-3f12-416c-b244-f4fe4dd58dba"
      },
      "execution_count": 27,
      "outputs": [
        {
          "output_type": "display_data",
          "data": {
            "text/plain": [
              "<Figure size 800x600 with 1 Axes>"
            ],
            "image/png": "[encoded data removed]"
          },
          "metadata": {}
        }
      ]
    },
    {
      "cell_type": "code",
      "source": [
        "# Print the results\n",
        "print(\"Best route:\", best_route)\n",
        "print(\"Shortest distance:\", -solution_fitness)"
      ],
      "metadata": {
        "colab": {
          "base_uri": "https://localhost:8080/"
        },
        "id": "9mU999U2Da-Z",
        "outputId": "c3bffcc3-e6aa-4b98-d6b4-2335cc94ea05"
      },
      "execution_count": 20,
      "outputs": [
        {
          "output_type": "stream",
          "name": "stdout",
          "text": [
            "Best route: [1 0 3 2 4]\n",
            "Shortest distance: 44.14213562373095\n"
          ]
        }
      ]
    },
    {
      "cell_type": "markdown",
      "source": [
        "* This is the sequence of city indices representing the best route found by the genetic algorithm:\n",
        "City 2 → City 1 → City 4 → City 3 → City 5\n",
        "* The route is optimized to minimize the total distance traveled while visiting all cities exactly once and returning to the starting city\n",
        "* Shortest distance is calculated using the Euclidean distance between consecutive cities in the sequence and including the return trip from the last city to the starting city."
      ],
      "metadata": {
        "id": "Wk6zelqjFmpI"
      }
    }
  ]
}